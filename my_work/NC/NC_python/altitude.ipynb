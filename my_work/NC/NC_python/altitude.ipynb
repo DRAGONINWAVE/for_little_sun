{
 "cells": [
  {
   "cell_type": "code",
   "execution_count": null,
   "metadata": {
    "pycharm": {
     "name": "#%%\n"
    }
   },
   "outputs": [],
   "source": [
    "import numpy as np\n",
    "import xarray as xr\n",
    "import pandas as pd\n",
    "import pandas as pd\n",
    "import matplotlib.pyplot as plt\n",
    "import cartopy.crs as ccrs\n",
    "import cartopy.feature as cfeature\n",
    "import cartopy.mpl.ticker as cticker\n",
    "import cartopy.io.shapereader as shpreader\n",
    "import salem\n",
    "import geopandas as gpd\n",
    "import rasterio\n",
    "import pymannkendall as mk"
   ]
  },
  {
   "cell_type": "code",
   "execution_count": null,
   "metadata": {
    "pycharm": {
     "name": "#%%\n"
    }
   },
   "outputs": [],
   "source": [
    "f1=xr.open_dataset('/Volumes/Lexi_2/nepal_DEM/elevation_nc/elevation_p01.nc')\n",
    "ele=f1['nepal_aftclip.tif']\n",
    "f2=xr.open_dataset('/Volumes/Lexi_2/ERA5/precip/INDEX/R99pTOT_40.nc')\n",
    "R99=f2['R99pTOT']\n",
    "f3=xr.open_dataset('/Volumes/Lexi_2/ERA5/precip/INDEX/R95pTOT_40.nc')\n",
    "R95=f3['R95pTOT']\n",
    "ele=ele.rename({'lon': 'longitude','lat': 'latitude'})\n",
    "level=np.arange(330,3001,30)\n",
    "tmp=per95.groupby_bins(ele,bins=level).mean()\n",
    "tmp_mean=tmp.mean(dim='time')"
   ]
  }
 ],
 "metadata": {
  "kernelspec": {
   "display_name": "Python [conda env:geo_env]",
   "language": "python",
   "name": "conda-env-geo_env-py"
  },
  "language_info": {
   "codemirror_mode": {
    "name": "ipython",
    "version": 3
   },
   "file_extension": ".py",
   "mimetype": "text/x-python",
   "name": "python",
   "nbconvert_exporter": "python",
   "pygments_lexer": "ipython3",
   "version": "3.6.13"
  }
 },
 "nbformat": 4,
 "nbformat_minor": 4
}