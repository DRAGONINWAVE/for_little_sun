{
 "cells": [
  {
   "cell_type": "code",
   "execution_count": null,
   "metadata": {
    "pycharm": {
     "name": "#%%\n"
    }
   },
   "outputs": [],
   "source": [
    "import numpy as np\n",
    "import xarray as xr\n",
    "import pandas as pd\n",
    "import pandas as pd\n",
    "import matplotlib.pyplot as plt\n",
    "import cartopy.crs as ccrs\n",
    "import cartopy.feature as cfeature\n",
    "import cartopy.mpl.ticker as cticker\n",
    "import cartopy.io.shapereader as shpreader\n",
    "import salem\n",
    "import geopandas as gpd\n",
    "import rasterio\n",
    "import pymannkendall as mk"
   ]
  },
  {
   "cell_type": "markdown",
   "source": [],
   "metadata": {
    "collapsed": false,
    "pycharm": {
     "name": "#%% md\n"
    }
   }
  },
  {
   "cell_type": "code",
   "execution_count": null,
   "metadata": {
    "pycharm": {
     "name": "#%%\n"
    }
   },
   "outputs": [],
   "source": [
    "f1=xr.open_dataset('/Volumes/Lexi_2/nepal_DEM/elevation_nc/elevation_p01.nc')\n",
    "ele=f1['nepal_aftclip.tif']\n",
    "f2=xr.open_dataset('/Volumes/Lexi_2/ERA5/precip/INDEX/PRCPTOT_40.nc')\n",
    "R99pTOT=f2['PRCPTOT']\n",
    "f3=xr.open_dataset('/Volumes/Lexi_2/ERA5/precip/INDEX/R99pTOT_40.nc')\n",
    "R99=f3['R99pTOT']\n",
    "f4=xr.open_dataset('/Volumes/Lexi_2/ERA5/precip/INDEX/R95pTOT_40.nc')\n",
    "R95=f4['R95pTOT']\n",
    "\n",
    "ele=ele.rename({'lon': 'longitude','lat': 'latitude'})\n",
    "\n",
    "level=np.arange(330,3001,30)\n",
    "tmp=per95.groupby_bins(ele,bins=level).mean()\n",
    "\n",
    "print(\"标准差 \", np.std(tmp,axis=0))\n",
    "\n",
    "\n",
    "###画图的\n",
    "x1=np.arange(3400,7001,400)\n",
    "y1=tmp_mean\n",
    "y3=std1\n",
    "y4=std2\n",
    "fig1, ax1 = plt.subplots()\n",
    "'''my_x_ticks1=[500,1000,1500,2000,2500,3000,3500,4000,4500,5000,5500,6000,6500,7000]\n",
    "plt.xticks(my_x_ticks1,rotation = 60)'''\n",
    "\n",
    "ax1.fill_between(x1, y3, y4, alpha=.2,facecolor='grey', linewidth=0)\n",
    "ax1.plot(x1,y1,c='black',marker='.')\n",
    "ax1.set(xlabel='elevation(m) ', ylabel='R99pTOT/PRCPTOT(%)',title='elevation_3000-7000m/400m ')\n",
    "##ax.set_ylim(30,230)\n",
    "ax1.text(3500,22.5,'p<0.05 slope=0.393')\n",
    "\n",
    "##趋势线\n",
    "z1 = np.polyfit(x1, y1, 1)\n",
    "p1 = np.poly1d(z1)\n",
    "ax1.plot(x1,p1(x1),\"r--\")\n",
    "\n",
    "##fig1.savefig(\"/Volumes/Lexi_2/Figures/0704_figs/ele_per99_>3000.png\")"
   ]
  }
 ],
 "metadata": {
  "kernelspec": {
   "display_name": "Python [conda env:geo_env]",
   "language": "python",
   "name": "conda-env-geo_env-py"
  },
  "language_info": {
   "codemirror_mode": {
    "name": "ipython",
    "version": 3
   },
   "file_extension": ".py",
   "mimetype": "text/x-python",
   "name": "python",
   "nbconvert_exporter": "python",
   "pygments_lexer": "ipython3",
   "version": "3.6.13"
  }
 },
 "nbformat": 4,
 "nbformat_minor": 4
}